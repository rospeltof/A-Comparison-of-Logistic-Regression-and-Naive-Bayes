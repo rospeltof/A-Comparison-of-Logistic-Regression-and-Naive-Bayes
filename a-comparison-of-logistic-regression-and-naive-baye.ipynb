{
 "cells": [
  {
   "cell_type": "markdown",
   "id": "cfa817e8",
   "metadata": {
    "papermill": {
     "duration": 0.009197,
     "end_time": "2023-03-02T14:26:40.898529",
     "exception": false,
     "start_time": "2023-03-02T14:26:40.889332",
     "status": "completed"
    },
    "tags": []
   },
   "source": [
    "# Predicting Disaster Tweets: A Comparison of Logistic Regression and Naive Bayes with and without Emojis"
   ]
  },
  {
   "cell_type": "markdown",
   "id": "a61b9c13",
   "metadata": {
    "papermill": {
     "duration": 0.007563,
     "end_time": "2023-03-02T14:26:40.914165",
     "exception": false,
     "start_time": "2023-03-02T14:26:40.906602",
     "status": "completed"
    },
    "tags": []
   },
   "source": [
    " In this notebook, we explore the task of predicting whether a tweet is about a disaster or not, using two popular classification algorithms: logistic regression and Naive Bayes. Additionally, we investigate the impact of removing emojis from the tweets on the performance of the models. To do this, we use the disaster tweet dataset of kaggle that contains labeled tweets as either disaster or not disaster. We will compare the F1 score of the two models with and without emojis. By doing so, we aim to shed light on the effectiveness of these models for predicting disaster tweets, and provide insights into the role of emojis in the classification task. having set all this lets start with importing the Data."
   ]
  },
  {
   "cell_type": "code",
   "execution_count": 1,
   "id": "4dcac503",
   "metadata": {
    "execution": {
     "iopub.execute_input": "2023-03-02T14:26:40.934096Z",
     "iopub.status.busy": "2023-03-02T14:26:40.932600Z",
     "iopub.status.idle": "2023-03-02T14:26:41.040906Z",
     "shell.execute_reply": "2023-03-02T14:26:41.039644Z"
    },
    "papermill": {
     "duration": 0.121612,
     "end_time": "2023-03-02T14:26:41.043777",
     "exception": false,
     "start_time": "2023-03-02T14:26:40.922165",
     "status": "completed"
    },
    "tags": []
   },
   "outputs": [
    {
     "data": {
      "text/html": [
       "<div>\n",
       "<style scoped>\n",
       "    .dataframe tbody tr th:only-of-type {\n",
       "        vertical-align: middle;\n",
       "    }\n",
       "\n",
       "    .dataframe tbody tr th {\n",
       "        vertical-align: top;\n",
       "    }\n",
       "\n",
       "    .dataframe thead th {\n",
       "        text-align: right;\n",
       "    }\n",
       "</style>\n",
       "<table border=\"1\" class=\"dataframe\">\n",
       "  <thead>\n",
       "    <tr style=\"text-align: right;\">\n",
       "      <th></th>\n",
       "      <th>id</th>\n",
       "      <th>keyword</th>\n",
       "      <th>location</th>\n",
       "      <th>text</th>\n",
       "      <th>target</th>\n",
       "    </tr>\n",
       "  </thead>\n",
       "  <tbody>\n",
       "    <tr>\n",
       "      <th>0</th>\n",
       "      <td>1</td>\n",
       "      <td>NaN</td>\n",
       "      <td>NaN</td>\n",
       "      <td>Our Deeds are the Reason of this #earthquake M...</td>\n",
       "      <td>1</td>\n",
       "    </tr>\n",
       "    <tr>\n",
       "      <th>1</th>\n",
       "      <td>4</td>\n",
       "      <td>NaN</td>\n",
       "      <td>NaN</td>\n",
       "      <td>Forest fire near La Ronge Sask. Canada</td>\n",
       "      <td>1</td>\n",
       "    </tr>\n",
       "    <tr>\n",
       "      <th>2</th>\n",
       "      <td>5</td>\n",
       "      <td>NaN</td>\n",
       "      <td>NaN</td>\n",
       "      <td>All residents asked to 'shelter in place' are ...</td>\n",
       "      <td>1</td>\n",
       "    </tr>\n",
       "    <tr>\n",
       "      <th>3</th>\n",
       "      <td>6</td>\n",
       "      <td>NaN</td>\n",
       "      <td>NaN</td>\n",
       "      <td>13,000 people receive #wildfires evacuation or...</td>\n",
       "      <td>1</td>\n",
       "    </tr>\n",
       "    <tr>\n",
       "      <th>4</th>\n",
       "      <td>7</td>\n",
       "      <td>NaN</td>\n",
       "      <td>NaN</td>\n",
       "      <td>Just got sent this photo from Ruby #Alaska as ...</td>\n",
       "      <td>1</td>\n",
       "    </tr>\n",
       "  </tbody>\n",
       "</table>\n",
       "</div>"
      ],
      "text/plain": [
       "   id keyword location                                               text  \\\n",
       "0   1     NaN      NaN  Our Deeds are the Reason of this #earthquake M...   \n",
       "1   4     NaN      NaN             Forest fire near La Ronge Sask. Canada   \n",
       "2   5     NaN      NaN  All residents asked to 'shelter in place' are ...   \n",
       "3   6     NaN      NaN  13,000 people receive #wildfires evacuation or...   \n",
       "4   7     NaN      NaN  Just got sent this photo from Ruby #Alaska as ...   \n",
       "\n",
       "   target  \n",
       "0       1  \n",
       "1       1  \n",
       "2       1  \n",
       "3       1  \n",
       "4       1  "
      ]
     },
     "execution_count": 1,
     "metadata": {},
     "output_type": "execute_result"
    }
   ],
   "source": [
    "import pandas as pd\n",
    "train_df= pd.read_csv('/kaggle/input/nlp-getting-started/train.csv')\n",
    "test_df= pd.read_csv('/kaggle/input/nlp-getting-started/test.csv')\n",
    "train_df.head()"
   ]
  },
  {
   "cell_type": "markdown",
   "id": "d50cbc2e",
   "metadata": {
    "papermill": {
     "duration": 0.008248,
     "end_time": "2023-03-02T14:26:41.061335",
     "exception": false,
     "start_time": "2023-03-02T14:26:41.053087",
     "status": "completed"
    },
    "tags": []
   },
   "source": [
    "##  Data Processing and Visualization"
   ]
  },
  {
   "cell_type": "markdown",
   "id": "d178ccdb",
   "metadata": {
    "papermill": {
     "duration": 0.007935,
     "end_time": "2023-03-02T14:26:41.077619",
     "exception": false,
     "start_time": "2023-03-02T14:26:41.069684",
     "status": "completed"
    },
    "tags": []
   },
   "source": [
    "For the purpose of our analysis, we will focus solely on the contents of the tweets and ignore the location and keyword columns. Therefore, we will drop these columns from both the training and test sets. Additionally, we will store the IDs of the test set since we will need them to submit our predictions for the competition and obtain our test score."
   ]
  },
  {
   "cell_type": "code",
   "execution_count": 2,
   "id": "4ffe3da6",
   "metadata": {
    "execution": {
     "iopub.execute_input": "2023-03-02T14:26:41.097522Z",
     "iopub.status.busy": "2023-03-02T14:26:41.096162Z",
     "iopub.status.idle": "2023-03-02T14:26:41.117332Z",
     "shell.execute_reply": "2023-03-02T14:26:41.115733Z"
    },
    "papermill": {
     "duration": 0.034227,
     "end_time": "2023-03-02T14:26:41.120108",
     "exception": false,
     "start_time": "2023-03-02T14:26:41.085881",
     "status": "completed"
    },
    "tags": []
   },
   "outputs": [
    {
     "data": {
      "text/plain": [
       "array([    0,     2,     3, ..., 10868, 10874, 10875])"
      ]
     },
     "execution_count": 2,
     "metadata": {},
     "output_type": "execute_result"
    }
   ],
   "source": [
    "train_df.drop(['keyword','location','id'],axis=1,inplace=True)#Axis 1 drops columns and inplace modifies the df\n",
    "test_ids=test_df.id.values\n",
    "test_df.drop(['keyword','location','id'],axis=1,inplace=True)\n",
    "test_ids"
   ]
  },
  {
   "cell_type": "markdown",
   "id": "6ae2ba3c",
   "metadata": {
    "papermill": {
     "duration": 0.00801,
     "end_time": "2023-03-02T14:26:41.136587",
     "exception": false,
     "start_time": "2023-03-02T14:26:41.128577",
     "status": "completed"
    },
    "tags": []
   },
   "source": [
    "To get a better understanding of our dataset, we will create a pie chart to visualize the balance of disaster and non-disaster tweets. The green slice will represent the percentage of tweets labeled as non-disaster, while the red slice will represent the percentage of tweets labeled as a disaster."
   ]
  },
  {
   "cell_type": "code",
   "execution_count": 3,
   "id": "016cd873",
   "metadata": {
    "execution": {
     "iopub.execute_input": "2023-03-02T14:26:41.156752Z",
     "iopub.status.busy": "2023-03-02T14:26:41.156203Z",
     "iopub.status.idle": "2023-03-02T14:26:41.344942Z",
     "shell.execute_reply": "2023-03-02T14:26:41.343227Z"
    },
    "papermill": {
     "duration": 0.204143,
     "end_time": "2023-03-02T14:26:41.350031",
     "exception": false,
     "start_time": "2023-03-02T14:26:41.145888",
     "status": "completed"
    },
    "tags": []
   },
   "outputs": [
    {
     "data": {
      "image/png": "[encoded data removed]",
      "text/plain": [
       "<Figure size 500x500 with 1 Axes>"
      ]
     },
     "metadata": {},
     "output_type": "display_data"
    }
   ],
   "source": [
    "import matplotlib.pyplot as plt\n",
    "fig= plt.figure(figsize=(5,5))\n",
    "labels= 'Non-disaster', 'Disaster'\n",
    "counts= train_df.target.value_counts().values\n",
    "plt.pie(counts, labels= labels, autopct='%1.1f%%', startangle=90, colors=['#7DB9B6','#E96479'])\n",
    "plt.axis('equal')\n",
    "plt.title('Tweet Class Distribution')\n",
    "plt.show()\n"
   ]
  },
  {
   "cell_type": "markdown",
   "id": "635cb84c",
   "metadata": {
    "papermill": {
     "duration": 0.008707,
     "end_time": "2023-03-02T14:26:41.380211",
     "exception": false,
     "start_time": "2023-03-02T14:26:41.371504",
     "status": "completed"
    },
    "tags": []
   },
   "source": [
    "Our pie chart reveals that the majority of tweets in our dataset (57%) are labeled as non-disaster. However, it's worth noting that a significant proportion (43%) are labeled as a disaster, indicating that our model will need to perform well on both types of tweets in order to be effective. We will use the F1 score because it is the most suitable metric for this type of dataset, and the competition is ranked based on this metric."
   ]
  },
  {
   "cell_type": "code",
   "execution_count": 4,
   "id": "b17971a0",
   "metadata": {
    "execution": {
     "iopub.execute_input": "2023-03-02T14:26:41.400235Z",
     "iopub.status.busy": "2023-03-02T14:26:41.399823Z",
     "iopub.status.idle": "2023-03-02T14:26:41.407308Z",
     "shell.execute_reply": "2023-03-02T14:26:41.406272Z"
    },
    "papermill": {
     "duration": 0.020897,
     "end_time": "2023-03-02T14:26:41.410126",
     "exception": false,
     "start_time": "2023-03-02T14:26:41.389229",
     "status": "completed"
    },
    "tags": []
   },
   "outputs": [],
   "source": [
    "import numpy as np\n",
    "disaster= train_df['text'].loc[train_df.target==1].values\n",
    "non_disaster=train_df['text'].loc[train_df.target==0].values"
   ]
  },
  {
   "cell_type": "markdown",
   "id": "a4a80032",
   "metadata": {
    "papermill": {
     "duration": 0.010508,
     "end_time": "2023-03-02T14:26:41.431553",
     "exception": false,
     "start_time": "2023-03-02T14:26:41.421045",
     "status": "completed"
    },
    "tags": []
   },
   "source": [
    "Now that we have seen the distribution of classes in the data, let's take a closer look at the tweets themselves. We'll print out a few random tweets to get a sense of the language used and the types of messages being conveyed. Feel free to run this cell multiple times to see a variety of different tweets."
   ]
  },
  {
   "cell_type": "code",
   "execution_count": 5,
   "id": "8aff0b28",
   "metadata": {
    "execution": {
     "iopub.execute_input": "2023-03-02T14:26:41.454218Z",
     "iopub.status.busy": "2023-03-02T14:26:41.453336Z",
     "iopub.status.idle": "2023-03-02T14:26:41.464271Z",
     "shell.execute_reply": "2023-03-02T14:26:41.461489Z"
    },
    "papermill": {
     "duration": 0.02732,
     "end_time": "2023-03-02T14:26:41.468747",
     "exception": false,
     "start_time": "2023-03-02T14:26:41.441427",
     "status": "completed"
    },
    "tags": []
   },
   "outputs": [
    {
     "name": "stdout",
     "output_type": "stream",
     "text": [
      "\u001b[92mNon-disaster tweet: @messeymetoo I feel attacked\n",
      "\u001b[91mDisaster tweet: Officer wounded suspect killed in exchange of gunfire: Richmond police say an officer has been wounded and a ... http://t.co/HwOrB1N6vN\n"
     ]
    }
   ],
   "source": [
    "pos_sample=np.random.randint(0,len(disaster))\n",
    "neg_sample=np.random.randint(0,len(non_disaster))\n",
    "print('\\033[92m' + 'Non-disaster tweet: ' + non_disaster[neg_sample])\n",
    "print('\\033[91m' +'Disaster tweet: ' + disaster[pos_sample])"
   ]
  },
  {
   "cell_type": "markdown",
   "id": "709ff89c",
   "metadata": {
    "papermill": {
     "duration": 0.009978,
     "end_time": "2023-03-02T14:26:41.488945",
     "exception": false,
     "start_time": "2023-03-02T14:26:41.478967",
     "status": "completed"
    },
    "tags": []
   },
   "source": [
    "Next, we will define a function to process the tweets using the NLTK library and a tweet preprocessor library. This function will tokenize the words, remove stopwords, and apply Porter stemming to reduce the vocabulary size. We will create two versions of this function - one to eliminate emojis (referred to as 'out'), and another to keep the emojis (referred to as 'with'). The main difference between these two methods is the inclusion or exclusion of emojis. This will allow us to compare the performance of our models on tweets with and without emojis."
   ]
  },
  {
   "cell_type": "code",
   "execution_count": 6,
   "id": "bccf801c",
   "metadata": {
    "execution": {
     "iopub.execute_input": "2023-03-02T14:26:41.513781Z",
     "iopub.status.busy": "2023-03-02T14:26:41.512025Z",
     "iopub.status.idle": "2023-03-02T14:26:43.424111Z",
     "shell.execute_reply": "2023-03-02T14:26:43.422366Z"
    },
    "papermill": {
     "duration": 1.92874,
     "end_time": "2023-03-02T14:26:43.428289",
     "exception": false,
     "start_time": "2023-03-02T14:26:41.499549",
     "status": "completed"
    },
    "tags": []
   },
   "outputs": [],
   "source": [
    "import nltk\n",
    "from nltk.corpus import stopwords          # module for stop words that come with NLTK\n",
    "from nltk.stem import PorterStemmer\n",
    "import re\n",
    "from nltk.tokenize import TweetTokenizer\n",
    "import string\n",
    "tokenizer = TweetTokenizer(preserve_case=False, strip_handles=True, reduce_len=True)\n",
    "stopwords_english = stopwords.words('english') \n",
    "stemmer=PorterStemmer()\n",
    "#nltk.download('stopwords') dowload run this only if you haven't downloaded the stopwords\n",
    "def process_tweets(tweets,proccesor):\n",
    "    clean_tweets=[]\n",
    "    preproces_tweets=[]\n",
    "    if proccesor== 'emojis':\n",
    "        for x in tweets:#clean tweets\n",
    "            x=re.sub(r'^RT[\\s]+', '', x)\n",
    "            x=re.sub(r'https?://[^\\s\\n\\r]+', '', x)\n",
    "            x=re.sub(r'#', '', x)\n",
    "            clean_tweets.append(tokenizer.tokenize(x))\n",
    "        for y in clean_tweets:\n",
    "            preproces_tweet=[]\n",
    "            for word in y:\n",
    "                 if (word not in stopwords_english and word not in string.punctuation):\n",
    "                    word=stemmer.stem(word)\n",
    "                    preproces_tweet.append(word)\n",
    "            preproces_tweets.append(preproces_tweet)\n",
    "                    \n",
    "    elif proccesor == 'no_emojis':\n",
    "        for x in tweets:#clean tweets\n",
    "            x= re.sub(r'^RT[\\s]+', '', x)\n",
    "            x= re.sub(r'https?://[^\\s\\n\\r]+', '', x)\n",
    "            x= re.sub(r'#', '', x)\n",
    "            x= re.sub(\"[^a-zA-Z0-9]+\", \" \", x)\n",
    "            clean_tweets.append(tokenizer.tokenize(x))\n",
    "        for y in clean_tweets:\n",
    "            preproces_tweet=[]\n",
    "            for word in y:\n",
    "                 if (word not in stopwords_english and word not in string.punctuation):\n",
    "                    word=stemmer.stem(word)\n",
    "                    preproces_tweet.append(word)\n",
    "            preproces_tweets.append(preproces_tweet)\n",
    "    \n",
    "    return preproces_tweets"
   ]
  },
  {
   "cell_type": "code",
   "execution_count": 7,
   "id": "bd4caf71",
   "metadata": {
    "execution": {
     "iopub.execute_input": "2023-03-02T14:26:43.451059Z",
     "iopub.status.busy": "2023-03-02T14:26:43.450657Z",
     "iopub.status.idle": "2023-03-02T14:26:49.228474Z",
     "shell.execute_reply": "2023-03-02T14:26:49.227359Z"
    },
    "papermill": {
     "duration": 5.792786,
     "end_time": "2023-03-02T14:26:49.231652",
     "exception": false,
     "start_time": "2023-03-02T14:26:43.438866",
     "status": "completed"
    },
    "tags": []
   },
   "outputs": [],
   "source": [
    "train_tweets_withe= process_tweets(train_df.text.values, 'emojis')# train with emojis\n",
    "train_tweets_oute= process_tweets(train_df.text.values, 'no_emojis')#train without emojis"
   ]
  },
  {
   "cell_type": "markdown",
   "id": "fe999f4b",
   "metadata": {
    "papermill": {
     "duration": 0.008903,
     "end_time": "2023-03-02T14:26:49.250826",
     "exception": false,
     "start_time": "2023-03-02T14:26:49.241923",
     "status": "completed"
    },
    "tags": []
   },
   "source": [
    "Now let's take a look at how the tokenized tweets look like."
   ]
  },
  {
   "cell_type": "code",
   "execution_count": 8,
   "id": "cd0a3be6",
   "metadata": {
    "execution": {
     "iopub.execute_input": "2023-03-02T14:26:49.271253Z",
     "iopub.status.busy": "2023-03-02T14:26:49.270891Z",
     "iopub.status.idle": "2023-03-02T14:26:49.277667Z",
     "shell.execute_reply": "2023-03-02T14:26:49.276355Z"
    },
    "papermill": {
     "duration": 0.021267,
     "end_time": "2023-03-02T14:26:49.281550",
     "exception": false,
     "start_time": "2023-03-02T14:26:49.260283",
     "status": "completed"
    },
    "tags": []
   },
   "outputs": [
    {
     "name": "stdout",
     "output_type": "stream",
     "text": [
      "Original:  @DrAtomic420 where did you get that pic from where it shows that there is 2 trophies for Outbreak? Or did they photoshop it? \n",
      " With Emojis:  ['get', 'pic', 'show', '2', 'trophi', 'outbreak', 'photoshop'] \n",
      " Without Emojis:  ['dratom', '420', 'get', 'pic', 'show', '2', 'trophi', 'outbreak', 'photoshop']\n"
     ]
    }
   ],
   "source": [
    "rand_value= np.random.randint(0,len(train_df.text))\n",
    "print('Original: ', train_df.text.values[rand_value] ,'\\n With Emojis: ',train_tweets_withe[rand_value], \n",
    "     '\\n Without Emojis: ', train_tweets_oute[rand_value])"
   ]
  },
  {
   "cell_type": "markdown",
   "id": "2c905b66",
   "metadata": {
    "papermill": {
     "duration": 0.009155,
     "end_time": "2023-03-02T14:26:49.302517",
     "exception": false,
     "start_time": "2023-03-02T14:26:49.293362",
     "status": "completed"
    },
    "tags": []
   },
   "source": [
    "### Turning words into vectors"
   ]
  },
  {
   "cell_type": "markdown",
   "id": "13fa5f2e",
   "metadata": {
    "papermill": {
     "duration": 0.009704,
     "end_time": "2023-03-02T14:26:49.321673",
     "exception": false,
     "start_time": "2023-03-02T14:26:49.311969",
     "status": "completed"
    },
    "tags": []
   },
   "source": [
    "The next step is to convert the tokenized tweets into vectors. We will count the occurrences of each word in both the disaster and non-disaster classes and create a frequency dictionary. Each tweet will then be represented by a vector with three values: 1) a bias term set to 1 for every tweet, 2) the sum of the frequencies of all words in the tweet that appear in the disaster class, and 3) the sum of the frequencies of all words in the tweet that appear in the disaster class. This approach will allow us to visualize which words appear more frequently in the positive and negative classes. We will also create two frequency dictionaries: one for tweets with emojis and the other for tweets without emojis."
   ]
  },
  {
   "cell_type": "code",
   "execution_count": 9,
   "id": "7ecc71b2",
   "metadata": {
    "execution": {
     "iopub.execute_input": "2023-03-02T14:26:49.343979Z",
     "iopub.status.busy": "2023-03-02T14:26:49.343065Z",
     "iopub.status.idle": "2023-03-02T14:26:49.554807Z",
     "shell.execute_reply": "2023-03-02T14:26:49.553626Z"
    },
    "papermill": {
     "duration": 0.225967,
     "end_time": "2023-03-02T14:26:49.557826",
     "exception": false,
     "start_time": "2023-03-02T14:26:49.331859",
     "status": "completed"
    },
    "tags": []
   },
   "outputs": [],
   "source": [
    "def build_freqs(tweets, labels): ## function for mapping word frecuencies in every class\n",
    "    label_list = np.squeeze(labels).tolist()\n",
    "    freqs = {}\n",
    "    for y, tweet in zip(label_list, tweets):\n",
    "        for word in tweet:\n",
    "            pair = (word, y)\n",
    "            freqs[pair] = freqs.get(pair, 0) + 1\n",
    "    return freqs\n",
    "targets=list(train_df.target.values)\n",
    "freq_dict_withe=build_freqs(train_tweets_withe,targets)\n",
    "freq_dict_oute=build_freqs(train_tweets_oute,targets)\n",
    "#print(freq_dict) optional i used it for verification\n",
    "            "
   ]
  },
  {
   "cell_type": "code",
   "execution_count": 10,
   "id": "6953b5ff",
   "metadata": {
    "execution": {
     "iopub.execute_input": "2023-03-02T14:26:49.579309Z",
     "iopub.status.busy": "2023-03-02T14:26:49.578888Z",
     "iopub.status.idle": "2023-03-02T14:26:49.586290Z",
     "shell.execute_reply": "2023-03-02T14:26:49.585047Z"
    },
    "papermill": {
     "duration": 0.021403,
     "end_time": "2023-03-02T14:26:49.588786",
     "exception": false,
     "start_time": "2023-03-02T14:26:49.567383",
     "status": "completed"
    },
    "tags": []
   },
   "outputs": [
    {
     "data": {
      "text/plain": [
       "'earthquak'"
      ]
     },
     "execution_count": 10,
     "metadata": {},
     "output_type": "execute_result"
    }
   ],
   "source": [
    "word=stemmer.stem('earthquak')#use for looking up a word you want to plot remember that words change because of the stemer\n",
    "word"
   ]
  },
  {
   "cell_type": "markdown",
   "id": "7f662b5a",
   "metadata": {
    "papermill": {
     "duration": 0.009228,
     "end_time": "2023-03-02T14:26:49.607624",
     "exception": false,
     "start_time": "2023-03-02T14:26:49.598396",
     "status": "completed"
    },
    "tags": []
   },
   "source": [
    "Now, let's plot some words and emojis to see if they appear more often in the positive or negative class. To do this, we will use a logarithmic scale to reduce the dispersion of the data. This will help us to visually identify which words or emojis are most associated with each class. You can add words in the 'keys' list to graph them."
   ]
  },
  {
   "cell_type": "code",
   "execution_count": 11,
   "id": "e5885c94",
   "metadata": {
    "execution": {
     "iopub.execute_input": "2023-03-02T14:26:49.629222Z",
     "iopub.status.busy": "2023-03-02T14:26:49.628412Z",
     "iopub.status.idle": "2023-03-02T14:26:49.925103Z",
     "shell.execute_reply": "2023-03-02T14:26:49.923794Z"
    },
    "papermill": {
     "duration": 0.310728,
     "end_time": "2023-03-02T14:26:49.927976",
     "exception": false,
     "start_time": "2023-03-02T14:26:49.617248",
     "status": "completed"
    },
    "tags": []
   },
   "outputs": [
    {
     "data": {
      "image/png": "[encoded data removed]",
      "text/plain": [
       "<Figure size 800x800 with 1 Axes>"
      ]
     },
     "metadata": {},
     "output_type": "display_data"
    }
   ],
   "source": [
    "keys=['earthquak',':(',':)','tornado','music','colour','happi','sad','so','fun','peopl']#add or remove words\n",
    "data=[]\n",
    "for word in keys:\n",
    "    \n",
    "    # initialize positive and negative counts\n",
    "    pos = 0\n",
    "    neg = 0\n",
    "    \n",
    "    # retrieve number of positive counts\n",
    "    if (word, 1) in freq_dict_withe:\n",
    "        pos = freq_dict_withe[(word, 1)]\n",
    "        \n",
    "    # retrieve number of negative counts\n",
    "    if (word, 0) in freq_dict_withe:\n",
    "        neg = freq_dict_withe[(word, 0)]\n",
    "        \n",
    "    # append the word counts to the table\n",
    "    data.append([word, pos, neg])\n",
    "    \n",
    "fig, ax= plt.subplots(figsize=(8,8))\n",
    "x = np.log([x[1] + 1 for x in data]) #log para reducior la escala\n",
    "y = np.log([x[2] + 1 for x in data])\n",
    "ax.scatter(x, y, c='#23343A', label='Words')\n",
    "plt.xlabel(\"Log Disaster count\")\n",
    "plt.ylabel(\"Log non disaster count\")\n",
    "plt.title(\"Word count separation\")\n",
    "for i in range(0, len(data)):\n",
    "    ax.annotate(data[i][0], (x[i], y[i]), fontsize=12)\n",
    "\n",
    "ax.plot([0, 9], [0, 9], color = '#C13F2A', label='Separation') # Plot the red line that divides the 2 areas.\n",
    "plt.grid()\n",
    "plt.show()"
   ]
  },
  {
   "cell_type": "markdown",
   "id": "1eb2dc9a",
   "metadata": {
    "papermill": {
     "duration": 0.010065,
     "end_time": "2023-03-02T14:26:49.948617",
     "exception": false,
     "start_time": "2023-03-02T14:26:49.938552",
     "status": "completed"
    },
    "tags": []
   },
   "source": [
    "As expected, words like \"tornado\" and \"earthquake\" are strongly associated with the disaster tweet class, while words like \"happy\" or \"music\" appear more often in the non-disaster class. However, it's interesting to note that emojis, even if they are positive (like \":)\") or negative (like \":(\"), appear more frequently in the non-disaster class. This suggests that keeping emojis could be a relevant feature for predicting whether a tweet is about a disaster or not. Overall, these plots give us a good sense of which words and emojis are most strongly associated with each class, and can guide our feature selection."
   ]
  },
  {
   "cell_type": "markdown",
   "id": "3a3aa96b",
   "metadata": {
    "papermill": {
     "duration": 0.010204,
     "end_time": "2023-03-02T14:26:49.969234",
     "exception": false,
     "start_time": "2023-03-02T14:26:49.959030",
     "status": "completed"
    },
    "tags": []
   },
   "source": [
    "## Training and testing"
   ]
  },
  {
   "cell_type": "markdown",
   "id": "2ff7da7f",
   "metadata": {
    "papermill": {
     "duration": 0.010122,
     "end_time": "2023-03-02T14:26:49.990447",
     "exception": false,
     "start_time": "2023-03-02T14:26:49.980325",
     "status": "completed"
    },
    "tags": []
   },
   "source": [
    "Remember that in this notebook our features will be the sum of the positive and negative counts of the words of the tweet and a extra dimension of bias that is going to be equal to 1"
   ]
  },
  {
   "cell_type": "code",
   "execution_count": 12,
   "id": "e1f72afa",
   "metadata": {
    "execution": {
     "iopub.execute_input": "2023-03-02T14:26:50.013679Z",
     "iopub.status.busy": "2023-03-02T14:26:50.013152Z",
     "iopub.status.idle": "2023-03-02T14:26:50.021063Z",
     "shell.execute_reply": "2023-03-02T14:26:50.019585Z"
    },
    "papermill": {
     "duration": 0.022686,
     "end_time": "2023-03-02T14:26:50.023563",
     "exception": false,
     "start_time": "2023-03-02T14:26:50.000877",
     "status": "completed"
    },
    "tags": []
   },
   "outputs": [],
   "source": [
    "#train_tweets_withe remember this variables\n",
    "#train_tweets_oute\n",
    "#targets\n",
    "#freq_dict_withe\n",
    "#freq_dict_oute\n",
    "def extract_features(tweet, freqs):\n",
    "    x = np.zeros((1, 3)) \n",
    "    x[0,0] = 1 \n",
    "    \n",
    "    for word in tweet:\n",
    "        x[0,1] += freqs.get((word,1),0)\n",
    "        x[0,2] += freqs.get((word,0),0)\n",
    "    return x"
   ]
  },
  {
   "cell_type": "markdown",
   "id": "eb233a4e",
   "metadata": {
    "papermill": {
     "duration": 0.010587,
     "end_time": "2023-03-02T14:26:50.044643",
     "exception": false,
     "start_time": "2023-03-02T14:26:50.034056",
     "status": "completed"
    },
    "tags": []
   },
   "source": [
    "Lets print how this vectors look like"
   ]
  },
  {
   "cell_type": "code",
   "execution_count": 13,
   "id": "10d067ac",
   "metadata": {
    "execution": {
     "iopub.execute_input": "2023-03-02T14:26:50.067999Z",
     "iopub.status.busy": "2023-03-02T14:26:50.067353Z",
     "iopub.status.idle": "2023-03-02T14:26:50.305950Z",
     "shell.execute_reply": "2023-03-02T14:26:50.304504Z"
    },
    "papermill": {
     "duration": 0.255442,
     "end_time": "2023-03-02T14:26:50.310662",
     "exception": false,
     "start_time": "2023-03-02T14:26:50.055220",
     "status": "completed"
    },
    "tags": []
   },
   "outputs": [
    {
     "name": "stdout",
     "output_type": "stream",
     "text": [
      "[[  1. 267. 193.]]\n",
      "[[  1. 271. 196.]]\n"
     ]
    }
   ],
   "source": [
    "train_tweets_withe=[extract_features(x,freq_dict_withe) for x in train_tweets_withe]\n",
    "train_tweets_oute=[extract_features(x, freq_dict_oute) for x in train_tweets_oute]\n",
    "print(train_tweets_withe[10])\n",
    "print(train_tweets_oute[10])"
   ]
  },
  {
   "cell_type": "markdown",
   "id": "b261254f",
   "metadata": {
    "papermill": {
     "duration": 0.011503,
     "end_time": "2023-03-02T14:26:50.334185",
     "exception": false,
     "start_time": "2023-03-02T14:26:50.322682",
     "status": "completed"
    },
    "tags": []
   },
   "source": [
    "Split the data into train and validation sets"
   ]
  },
  {
   "cell_type": "code",
   "execution_count": 14,
   "id": "efe43e1e",
   "metadata": {
    "execution": {
     "iopub.execute_input": "2023-03-02T14:26:50.358975Z",
     "iopub.status.busy": "2023-03-02T14:26:50.358550Z",
     "iopub.status.idle": "2023-03-02T14:26:50.383893Z",
     "shell.execute_reply": "2023-03-02T14:26:50.382134Z"
    },
    "papermill": {
     "duration": 0.041489,
     "end_time": "2023-03-02T14:26:50.387483",
     "exception": false,
     "start_time": "2023-03-02T14:26:50.345994",
     "status": "completed"
    },
    "tags": []
   },
   "outputs": [],
   "source": [
    "from sklearn.model_selection import train_test_split #We will use 01 for tweets with emojis and 02 for tweets without them\n",
    "X_train01, X_val01, y_train01, y_val01= train_test_split(train_tweets_withe, targets, stratify=targets, train_size=0.9, \n",
    "                                                         shuffle=True, random_state=0)\n",
    "X_train02, X_val02, y_train02, y_val02= train_test_split(train_tweets_oute, targets, stratify=targets, train_size=0.9,\n",
    "                                                         shuffle=True,random_state=0)"
   ]
  },
  {
   "cell_type": "markdown",
   "id": "75889837",
   "metadata": {
    "papermill": {
     "duration": 0.011625,
     "end_time": "2023-03-02T14:26:50.410486",
     "exception": false,
     "start_time": "2023-03-02T14:26:50.398861",
     "status": "completed"
    },
    "tags": []
   },
   "source": [
    "Concatenate the data to get the correct shape for sklearn models"
   ]
  },
  {
   "cell_type": "code",
   "execution_count": 15,
   "id": "ea1d3ea4",
   "metadata": {
    "execution": {
     "iopub.execute_input": "2023-03-02T14:26:50.436590Z",
     "iopub.status.busy": "2023-03-02T14:26:50.435737Z",
     "iopub.status.idle": "2023-03-02T14:26:50.449237Z",
     "shell.execute_reply": "2023-03-02T14:26:50.447643Z"
    },
    "papermill": {
     "duration": 0.030731,
     "end_time": "2023-03-02T14:26:50.452743",
     "exception": false,
     "start_time": "2023-03-02T14:26:50.422012",
     "status": "completed"
    },
    "tags": []
   },
   "outputs": [],
   "source": [
    "X_train01=np.concatenate(X_train01,axis=0)"
   ]
  },
  {
   "cell_type": "code",
   "execution_count": 16,
   "id": "659fd3d1",
   "metadata": {
    "execution": {
     "iopub.execute_input": "2023-03-02T14:26:50.479449Z",
     "iopub.status.busy": "2023-03-02T14:26:50.478218Z",
     "iopub.status.idle": "2023-03-02T14:26:50.511575Z",
     "shell.execute_reply": "2023-03-02T14:26:50.509990Z"
    },
    "papermill": {
     "duration": 0.050163,
     "end_time": "2023-03-02T14:26:50.514765",
     "exception": false,
     "start_time": "2023-03-02T14:26:50.464602",
     "status": "completed"
    },
    "tags": []
   },
   "outputs": [
    {
     "name": "stdout",
     "output_type": "stream",
     "text": [
      "[LibLinear]iter  1 act 1.040e+03 pre 9.163e+02 delta 8.221e-03 f 4.749e+03 |g| 2.586e+05 CG   2\n",
      "iter  2 act 1.178e+02 pre 1.030e+02 delta 8.221e-03 f 3.709e+03 |g| 6.383e+04 CG   2\n",
      "iter  3 act 7.437e+00 pre 7.094e+00 delta 8.221e-03 f 3.591e+03 |g| 1.469e+04 CG   2\n",
      "cg reaches trust region boundary\n",
      "iter  4 act 2.207e+00 pre 2.207e+00 delta 3.288e-02 f 3.584e+03 |g| 1.212e+03 CG   3\n",
      "cg reaches trust region boundary\n",
      "iter  5 act 7.852e+00 pre 7.855e+00 delta 1.315e-01 f 3.581e+03 |g| 2.698e+02 CG   3\n",
      "cg reaches trust region boundary\n",
      "iter  6 act 1.912e+01 pre 1.911e+01 delta 1.914e-01 f 3.574e+03 |g| 8.410e+02 CG   3\n",
      "iter  7 act 2.091e+00 pre 2.088e+00 delta 1.914e-01 f 3.554e+03 |g| 3.252e+02 CG   3\n",
      "iter  8 act 1.860e-04 pre 1.859e-04 delta 1.914e-01 f 3.552e+03 |g| 7.908e+01 CG   2\n"
     ]
    },
    {
     "data": {
      "text/plain": [
       "LogisticRegression(n_jobs=1, random_state=0, solver='liblinear', verbose=1)"
      ]
     },
     "execution_count": 16,
     "metadata": {},
     "output_type": "execute_result"
    }
   ],
   "source": [
    "from sklearn.linear_model import LogisticRegression\n",
    "from sklearn.metrics import f1_score\n",
    "clf_withe= LogisticRegression(random_state=0, solver='liblinear', max_iter=100, verbose=1, n_jobs=1)#best solver acording to documentation\n",
    "clf_withe.fit(X_train01, y_train01)"
   ]
  },
  {
   "cell_type": "code",
   "execution_count": 17,
   "id": "5b3deeff",
   "metadata": {
    "execution": {
     "iopub.execute_input": "2023-03-02T14:26:50.541477Z",
     "iopub.status.busy": "2023-03-02T14:26:50.540957Z",
     "iopub.status.idle": "2023-03-02T14:26:50.550927Z",
     "shell.execute_reply": "2023-03-02T14:26:50.550019Z"
    },
    "papermill": {
     "duration": 0.026672,
     "end_time": "2023-03-02T14:26:50.553695",
     "exception": false,
     "start_time": "2023-03-02T14:26:50.527023",
     "status": "completed"
    },
    "tags": []
   },
   "outputs": [
    {
     "name": "stdout",
     "output_type": "stream",
     "text": [
      "f_1=  0.7300509337860781\n"
     ]
    }
   ],
   "source": [
    "import numpy as np\n",
    "X_val01=np.concatenate(X_val01, axis=0)\n",
    "val_pred_withe=clf_withe.predict(X_val01)\n",
    "f1= f1_score(np.asarray(y_val01),val_pred_withe)\n",
    "print('f_1= ', f1)"
   ]
  },
  {
   "cell_type": "markdown",
   "id": "31cc2a00",
   "metadata": {
    "papermill": {
     "duration": 0.011191,
     "end_time": "2023-03-02T14:26:50.576419",
     "exception": false,
     "start_time": "2023-03-02T14:26:50.565228",
     "status": "completed"
    },
    "tags": []
   },
   "source": [
    "Now, let's repeat the process using the data without emojis. Our hypothesis is that the model trained without emojis will have a lower accuracy."
   ]
  },
  {
   "cell_type": "code",
   "execution_count": 18,
   "id": "a5fc7cc5",
   "metadata": {
    "execution": {
     "iopub.execute_input": "2023-03-02T14:26:50.604022Z",
     "iopub.status.busy": "2023-03-02T14:26:50.603493Z",
     "iopub.status.idle": "2023-03-02T14:26:50.636273Z",
     "shell.execute_reply": "2023-03-02T14:26:50.634323Z"
    },
    "papermill": {
     "duration": 0.050854,
     "end_time": "2023-03-02T14:26:50.639932",
     "exception": false,
     "start_time": "2023-03-02T14:26:50.589078",
     "status": "completed"
    },
    "tags": []
   },
   "outputs": [
    {
     "name": "stdout",
     "output_type": "stream",
     "text": [
      "[LibLinear]iter  1 act 1.217e+03 pre 1.059e+03 delta 1.011e-02 f 4.749e+03 |g| 2.510e+05 CG   2\n",
      "iter  2 act 1.836e+02 pre 1.555e+02 delta 1.011e-02 f 3.532e+03 |g| 6.247e+04 CG   2\n",
      "iter  3 act 2.041e+01 pre 1.886e+01 delta 1.011e-02 f 3.348e+03 |g| 1.685e+04 CG   2\n",
      "cg reaches trust region boundary\n",
      "iter  4 act 5.030e+00 pre 5.025e+00 delta 4.042e-02 f 3.328e+03 |g| 2.227e+03 CG   3\n",
      "cg reaches trust region boundary\n",
      "iter  5 act 1.732e+01 pre 1.735e+01 delta 1.617e-01 f 3.323e+03 |g| 4.690e+02 CG   3\n",
      "cg reaches trust region boundary\n",
      "iter  6 act 6.168e+01 pre 6.157e+01 delta 5.968e-01 f 3.306e+03 |g| 2.781e+03 CG   3\n",
      "iter  7 act 7.697e+01 pre 7.587e+01 delta 5.968e-01 f 3.244e+03 |g| 3.895e+02 CG   3\n",
      "iter  8 act 3.192e-01 pre 3.156e-01 delta 5.968e-01 f 3.167e+03 |g| 4.044e+03 CG   2\n",
      "iter  9 act 8.603e-02 pre 8.587e-02 delta 5.968e-01 f 3.167e+03 |g| 6.280e+01 CG   3\n",
      "f_1=  0.7392857142857142\n"
     ]
    }
   ],
   "source": [
    "X_train02=np.concatenate(X_train02,axis=0)\n",
    "clf_oute= LogisticRegression(random_state=0, solver='liblinear', max_iter=100, verbose=1, n_jobs=1)#best solver acording to documentation\n",
    "clf_oute.fit(X_train02, y_train02)\n",
    "X_val02=np.concatenate(X_val02, axis=0)\n",
    "val_pred_oute=clf_withe.predict(X_val02)\n",
    "f12= f1_score(np.asarray(y_val02),val_pred_oute)\n",
    "print('f_1= ', f12)"
   ]
  },
  {
   "cell_type": "markdown",
   "id": "a0c140ac",
   "metadata": {
    "papermill": {
     "duration": 0.011398,
     "end_time": "2023-03-02T14:26:50.663476",
     "exception": false,
     "start_time": "2023-03-02T14:26:50.652078",
     "status": "completed"
    },
    "tags": []
   },
   "source": [
    "Now lets see how well naive bayes work with the datasets"
   ]
  },
  {
   "cell_type": "code",
   "execution_count": 19,
   "id": "07381d5b",
   "metadata": {
    "execution": {
     "iopub.execute_input": "2023-03-02T14:26:50.689012Z",
     "iopub.status.busy": "2023-03-02T14:26:50.688597Z",
     "iopub.status.idle": "2023-03-02T14:26:50.716288Z",
     "shell.execute_reply": "2023-03-02T14:26:50.714317Z"
    },
    "papermill": {
     "duration": 0.044614,
     "end_time": "2023-03-02T14:26:50.719854",
     "exception": false,
     "start_time": "2023-03-02T14:26:50.675240",
     "status": "completed"
    },
    "tags": []
   },
   "outputs": [
    {
     "name": "stdout",
     "output_type": "stream",
     "text": [
      "f_1=  0.4344262295081967\n",
      "f_1=  0.21311475409836067\n"
     ]
    }
   ],
   "source": [
    "from sklearn.naive_bayes import GaussianNB\n",
    "gnb = GaussianNB()\n",
    "gnb.fit(X_train01,y_train01)\n",
    "val_pred_gnb=gnb.predict(X_val01)\n",
    "f13= f1_score(np.asarray(y_val01),val_pred_gnb)\n",
    "print('f_1= ', f13)\n",
    "gnb_2 = GaussianNB()\n",
    "gnb_2.fit(X_train02,y_train02)\n",
    "val_pred_gnb_2=gnb.predict(X_val02)\n",
    "f14= f1_score(np.asarray(y_val02),val_pred_gnb_2)\n",
    "print('f_1= ', f14)"
   ]
  },
  {
   "cell_type": "code",
   "execution_count": 20,
   "id": "e827b74f",
   "metadata": {
    "execution": {
     "iopub.execute_input": "2023-03-02T14:26:50.747325Z",
     "iopub.status.busy": "2023-03-02T14:26:50.746895Z",
     "iopub.status.idle": "2023-03-02T14:26:50.753525Z",
     "shell.execute_reply": "2023-03-02T14:26:50.752008Z"
    },
    "papermill": {
     "duration": 0.023786,
     "end_time": "2023-03-02T14:26:50.756438",
     "exception": false,
     "start_time": "2023-03-02T14:26:50.732652",
     "status": "completed"
    },
    "tags": []
   },
   "outputs": [],
   "source": [
    "metrics={'lr_with_emoji': f1, 'lr_without_emoji': f12, 'NaiveBayes_with_emojis': f13,\n",
    "        'NaiveBayes_without_emojis': f14}"
   ]
  },
  {
   "cell_type": "code",
   "execution_count": 21,
   "id": "6d09adde",
   "metadata": {
    "execution": {
     "iopub.execute_input": "2023-03-02T14:26:50.782405Z",
     "iopub.status.busy": "2023-03-02T14:26:50.781983Z",
     "iopub.status.idle": "2023-03-02T14:26:51.015243Z",
     "shell.execute_reply": "2023-03-02T14:26:51.013785Z"
    },
    "papermill": {
     "duration": 0.249863,
     "end_time": "2023-03-02T14:26:51.018319",
     "exception": false,
     "start_time": "2023-03-02T14:26:50.768456",
     "status": "completed"
    },
    "tags": []
   },
   "outputs": [
    {
     "data": {
      "image/png": "[encoded data removed]",
      "text/plain": [
       "<Figure size 640x480 with 1 Axes>"
      ]
     },
     "metadata": {},
     "output_type": "display_data"
    }
   ],
   "source": [
    "fig, ax = plt.subplots()\n",
    "ax.bar(metrics.keys(), metrics.values(), color=['#c44f58', '#f7cac9', '#93c47d', '#4f98b3'])\n",
    "ax.set_xlabel('Models')\n",
    "ax.set_ylabel('F1_score')\n",
    "ax.set_xticks(range(len(metrics)))\n",
    "ax.set_title('Accuracys of trained model in validation set')\n",
    "ax.set_xticklabels(metrics.keys(), rotation=90)\n",
    "plt.show()"
   ]
  },
  {
   "cell_type": "markdown",
   "id": "fd1280dd",
   "metadata": {
    "papermill": {
     "duration": 0.011652,
     "end_time": "2023-03-02T14:26:51.042884",
     "exception": false,
     "start_time": "2023-03-02T14:26:51.031232",
     "status": "completed"
    },
    "tags": []
   },
   "source": [
    "## conclusion"
   ]
  },
  {
   "cell_type": "markdown",
   "id": "d698f446",
   "metadata": {
    "papermill": {
     "duration": 0.011698,
     "end_time": "2023-03-02T14:26:51.066616",
     "exception": false,
     "start_time": "2023-03-02T14:26:51.054918",
     "status": "completed"
    },
    "tags": []
   },
   "source": [
    "In conclusion, this notebook has demonstrated the effectiveness of logistic regression and Naive Bayes in predicting disaster tweets. Through a comparison of these models with and without emojis, it was found that the inclusion of emojis has a negligible effect on the accuracy of the logistic regression model, with both models achieving similar F_1 scores of 0.730 and 0.733, respectively.\n",
    "\n",
    "However, the inclusion of emojis had a slightly more significant impact on the F1 score of the Naive Bayes model. The Naive Bayes model with emojis achieved an F1 score of 0.434, while the model without emojis achieved a lower score of 0.345.\n",
    "\n",
    "Overall, these findings suggest that the logistic regression model is more robust to the presence of emojis in the text, while Naive Bayes may benefit from their inclusion. Further exploration and experimentation could help improve this models to their maximum potential but keep in mind that this models are linear they tend to a point where they can not longer improve. In other ocation we will use sequence models to get a higger score in this data set. I hope you enjoy it, good luck :). "
   ]
  },
  {
   "cell_type": "markdown",
   "id": "aac9451a",
   "metadata": {
    "papermill": {
     "duration": 0.012974,
     "end_time": "2023-03-02T14:26:51.092192",
     "exception": false,
     "start_time": "2023-03-02T14:26:51.079218",
     "status": "completed"
    },
    "tags": []
   },
   "source": [
    "### Extra: Code for preparing the sumbition"
   ]
  },
  {
   "cell_type": "code",
   "execution_count": 22,
   "id": "cc28db3c",
   "metadata": {
    "execution": {
     "iopub.execute_input": "2023-03-02T14:26:51.118093Z",
     "iopub.status.busy": "2023-03-02T14:26:51.117699Z",
     "iopub.status.idle": "2023-03-02T14:26:52.476162Z",
     "shell.execute_reply": "2023-03-02T14:26:52.474471Z"
    },
    "papermill": {
     "duration": 1.377502,
     "end_time": "2023-03-02T14:26:52.481934",
     "exception": false,
     "start_time": "2023-03-02T14:26:51.104432",
     "status": "completed"
    },
    "tags": []
   },
   "outputs": [
    {
     "data": {
      "text/html": [
       "<div>\n",
       "<style scoped>\n",
       "    .dataframe tbody tr th:only-of-type {\n",
       "        vertical-align: middle;\n",
       "    }\n",
       "\n",
       "    .dataframe tbody tr th {\n",
       "        vertical-align: top;\n",
       "    }\n",
       "\n",
       "    .dataframe thead th {\n",
       "        text-align: right;\n",
       "    }\n",
       "</style>\n",
       "<table border=\"1\" class=\"dataframe\">\n",
       "  <thead>\n",
       "    <tr style=\"text-align: right;\">\n",
       "      <th></th>\n",
       "      <th>id</th>\n",
       "      <th>target</th>\n",
       "    </tr>\n",
       "  </thead>\n",
       "  <tbody>\n",
       "    <tr>\n",
       "      <th>0</th>\n",
       "      <td>0</td>\n",
       "      <td>1</td>\n",
       "    </tr>\n",
       "    <tr>\n",
       "      <th>1</th>\n",
       "      <td>2</td>\n",
       "      <td>0</td>\n",
       "    </tr>\n",
       "    <tr>\n",
       "      <th>2</th>\n",
       "      <td>3</td>\n",
       "      <td>1</td>\n",
       "    </tr>\n",
       "    <tr>\n",
       "      <th>3</th>\n",
       "      <td>9</td>\n",
       "      <td>1</td>\n",
       "    </tr>\n",
       "    <tr>\n",
       "      <th>4</th>\n",
       "      <td>11</td>\n",
       "      <td>1</td>\n",
       "    </tr>\n",
       "  </tbody>\n",
       "</table>\n",
       "</div>"
      ],
      "text/plain": [
       "   id  target\n",
       "0   0       1\n",
       "1   2       0\n",
       "2   3       1\n",
       "3   9       1\n",
       "4  11       1"
      ]
     },
     "execution_count": 22,
     "metadata": {},
     "output_type": "execute_result"
    }
   ],
   "source": [
    "test_tweets_withe= process_tweets(test_df.text.values, 'emojis')\n",
    "test_tweets_withe=[extract_features(x,freq_dict_withe) for x in test_tweets_withe]\n",
    "X_test= np.concatenate(test_tweets_withe, axis=0)\n",
    "test_preds=clf_withe.predict(X_test)\n",
    "sumbit_df=pd.DataFrame({'id':test_ids, 'target': test_preds})\n",
    "sumbit_df.to_csv('kaggle_sumbition.csv', index=False)\n",
    "sumbit_df.head()"
   ]
  }
 ],
 "metadata": {
  "kernelspec": {
   "display_name": "Python 3",
   "language": "python",
   "name": "python3"
  },
  "language_info": {
   "codemirror_mode": {
    "name": "ipython",
    "version": 3
   },
   "file_extension": ".py",
   "mimetype": "text/x-python",
   "name": "python",
   "nbconvert_exporter": "python",
   "pygments_lexer": "ipython3",
   "version": "3.7.12"
  },
  "papermill": {
   "default_parameters": {},
   "duration": 23.546656,
   "end_time": "2023-03-02T14:26:53.358288",
   "environment_variables": {},
   "exception": null,
   "input_path": "__notebook__.ipynb",
   "output_path": "__notebook__.ipynb",
   "parameters": {},
   "start_time": "2023-03-02T14:26:29.811632",
   "version": "2.4.0"
  }
 },
 "nbformat": 4,
 "nbformat_minor": 5
}
